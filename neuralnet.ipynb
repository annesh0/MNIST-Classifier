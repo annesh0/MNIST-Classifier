{
 "cells": [
  {
   "cell_type": "code",
   "execution_count": 39,
   "metadata": {},
   "outputs": [],
   "source": [
    "import tensorflow as tf\n",
    "\n",
    "from tensorflow.keras import datasets, layers, models\n",
    "import matplotlib.pyplot as plt\n",
    "from util.mnist_reader import *"
   ]
  },
  {
   "cell_type": "code",
   "execution_count": 19,
   "metadata": {},
   "outputs": [],
   "source": [
    "\n",
    "!gzip \"data/t10k-images-idx3-ubyte\"\n",
    "!gzip \"data/t10k-labels-idx1-ubyte\"\n",
    "!gzip \"data/train-images-idx3-ubyte\"\n",
    "!gzip \"data/train-labels-idx1-ubyte\""
   ]
  },
  {
   "cell_type": "code",
   "execution_count": 27,
   "metadata": {},
   "outputs": [
    {
     "name": "stdout",
     "output_type": "stream",
     "text": [
      "Downloading data from https://storage.googleapis.com/tensorflow/tf-keras-datasets/mnist.npz\n",
      "11493376/11490434 [==============================] - 2s 0us/step\n"
     ]
    }
   ],
   "source": [
    "mnist = tf.keras.datasets.mnist\n",
    "(train_images, train_labels), (test_images, test_labels) = mnist.load_data()"
   ]
  },
  {
   "cell_type": "code",
   "execution_count": 29,
   "metadata": {},
   "outputs": [
    {
     "data": {
      "image/png": "[encoded data removed]",
      "text/plain": [
       "<Figure size 432x288 with 2 Axes>"
      ]
     },
     "metadata": {
      "needs_background": "light"
     },
     "output_type": "display_data"
    }
   ],
   "source": [
    "train_images.shape\n",
    "plt.figure()\n",
    "plt.imshow(train_images[0])\n",
    "plt.colorbar()\n",
    "plt.grid(False)\n",
    "plt.show()\n",
    "#Range from 0 to 255"
   ]
  },
  {
   "cell_type": "code",
   "execution_count": 36,
   "metadata": {},
   "outputs": [],
   "source": [
    "#preprocessing\n",
    "train_images = train_images / 255.0\n",
    "\n",
    "test_images = test_images / 255.0"
   ]
  },
  {
   "cell_type": "code",
   "execution_count": 38,
   "metadata": {},
   "outputs": [
    {
     "data": {
      "image/png": "[encoded data removed]",
      "text/plain": [
       "<Figure size 432x288 with 2 Axes>"
      ]
     },
     "metadata": {
      "needs_background": "light"
     },
     "output_type": "display_data"
    }
   ],
   "source": [
    "plt.figure()\n",
    "plt.imshow(train_images[0])\n",
    "plt.colorbar()\n",
    "plt.grid(False)\n",
    "plt.show()\n",
    "#Should range from 0 to 1, if otherwise fix using cell above"
   ]
  },
  {
   "cell_type": "code",
   "execution_count": 45,
   "metadata": {},
   "outputs": [],
   "source": [
    "train_images = train_images.reshape(-1,28, 28, 1)\n",
    "\n",
    "test_images = test_images.reshape(-1,28, 28, 1)"
   ]
  },
  {
   "cell_type": "code",
   "execution_count": 46,
   "metadata": {},
   "outputs": [
    {
     "name": "stdout",
     "output_type": "stream",
     "text": [
      "Train on 60000 samples, validate on 10000 samples\n",
      "Epoch 1/10\n",
      "60000/60000 [==============================] - 137s 2ms/sample - loss: 0.1571 - accuracy: 0.9518 - val_loss: 0.0426 - val_accuracy: 0.9861\n",
      "Epoch 2/10\n",
      "60000/60000 [==============================] - 131s 2ms/sample - loss: 0.0485 - accuracy: 0.9844 - val_loss: 0.0402 - val_accuracy: 0.9879\n",
      "Epoch 3/10\n",
      "60000/60000 [==============================] - 133s 2ms/sample - loss: 0.0341 - accuracy: 0.9892 - val_loss: 0.0432 - val_accuracy: 0.9864\n",
      "Epoch 4/10\n",
      "60000/60000 [==============================] - 129s 2ms/sample - loss: 0.0274 - accuracy: 0.9914 - val_loss: 0.0291 - val_accuracy: 0.9910\n",
      "Epoch 5/10\n",
      "60000/60000 [==============================] - 129s 2ms/sample - loss: 0.0209 - accuracy: 0.9931 - val_loss: 0.0277 - val_accuracy: 0.9925\n",
      "Epoch 6/10\n",
      "60000/60000 [==============================] - 130s 2ms/sample - loss: 0.0152 - accuracy: 0.9953 - val_loss: 0.0340 - val_accuracy: 0.9896\n",
      "Epoch 7/10\n",
      "60000/60000 [==============================] - 131s 2ms/sample - loss: 0.0141 - accuracy: 0.9951 - val_loss: 0.0345 - val_accuracy: 0.9908\n",
      "Epoch 8/10\n",
      "60000/60000 [==============================] - 136s 2ms/sample - loss: 0.0121 - accuracy: 0.9957 - val_loss: 0.0348 - val_accuracy: 0.9924\n",
      "Epoch 9/10\n",
      "60000/60000 [==============================] - 136s 2ms/sample - loss: 0.0096 - accuracy: 0.9971 - val_loss: 0.0369 - val_accuracy: 0.9915\n",
      "Epoch 10/10\n",
      "60000/60000 [==============================] - 133s 2ms/sample - loss: 0.0088 - accuracy: 0.9974 - val_loss: 0.0441 - val_accuracy: 0.9900\n"
     ]
    }
   ],
   "source": [
    "model = models.Sequential()\n",
    "model.add(layers.Conv2D(32, (3, 3), activation='relu', input_shape=(28, 28, 1)))\n",
    "model.add(layers.MaxPooling2D((2, 2)))\n",
    "model.add(layers.Conv2D(64, (3, 3), activation='relu'))\n",
    "model.add(layers.MaxPooling2D((2, 2)))\n",
    "model.add(layers.Conv2D(64, (3, 3), activation='relu'))\n",
    "model.add(layers.Flatten())\n",
    "model.add(layers.Dense(64, activation='relu'))\n",
    "model.add(layers.Dense(10))\n",
    "model.compile(optimizer='adam',\n",
    "              loss=tf.keras.losses.SparseCategoricalCrossentropy(from_logits=True),\n",
    "              metrics=['accuracy'])\n",
    "history = model.fit(train_images, train_labels, epochs=10, \n",
    "                    validation_data=(test_images, test_labels))"
   ]
  },
  {
   "cell_type": "code",
   "execution_count": 47,
   "metadata": {},
   "outputs": [
    {
     "name": "stdout",
     "output_type": "stream",
     "text": [
      "Requirement already satisfied: h5py in /Users/annesh/opt/anaconda3/envs/ml_proj/lib/python3.7/site-packages (3.6.0)\n",
      "Requirement already satisfied: cached-property in /Users/annesh/opt/anaconda3/envs/ml_proj/lib/python3.7/site-packages (from h5py) (1.5.2)\n",
      "Requirement already satisfied: numpy>=1.14.5 in /Users/annesh/opt/anaconda3/envs/ml_proj/lib/python3.7/site-packages (from h5py) (1.21.2)\n"
     ]
    }
   ],
   "source": [
    "!pip3 install h5py\n"
   ]
  },
  {
   "cell_type": "code",
   "execution_count": 48,
   "metadata": {},
   "outputs": [],
   "source": [
    "model.save('final_model.h5')\n",
    "\n"
   ]
  },
  {
   "cell_type": "code",
   "execution_count": 49,
   "metadata": {},
   "outputs": [
    {
     "name": "stdout",
     "output_type": "stream",
     "text": [
      "WARNING:tensorflow:From /Users/annesh/opt/anaconda3/envs/ml_proj/lib/python3.7/site-packages/tensorflow_core/python/ops/resource_variable_ops.py:1781: calling BaseResourceVariable.__init__ (from tensorflow.python.ops.resource_variable_ops) with constraint is deprecated and will be removed in a future version.\n",
      "Instructions for updating:\n",
      "If using Keras pass *_constraint arguments to layers.\n",
      "INFO:tensorflow:Assets written to: mnist_model/assets\n"
     ]
    }
   ],
   "source": [
    "model.save(\"mnist_model\")"
   ]
  },
  {
   "cell_type": "code",
   "execution_count": 51,
   "metadata": {},
   "outputs": [],
   "source": [
    "test = models.load_model(\"mnist_model\")"
   ]
  },
  {
   "cell_type": "code",
   "execution_count": 52,
   "metadata": {},
   "outputs": [
    {
     "name": "stdout",
     "output_type": "stream",
     "text": [
      "Model: \"sequential_2\"\n",
      "_________________________________________________________________\n",
      "Layer (type)                 Output Shape              Param #   \n",
      "=================================================================\n",
      "conv2d_4 (Conv2D)            (None, 26, 26, 32)        320       \n",
      "_________________________________________________________________\n",
      "max_pooling2d_2 (MaxPooling2 (None, 13, 13, 32)        0         \n",
      "_________________________________________________________________\n",
      "conv2d_5 (Conv2D)            (None, 11, 11, 64)        18496     \n",
      "_________________________________________________________________\n",
      "max_pooling2d_3 (MaxPooling2 (None, 5, 5, 64)          0         \n",
      "_________________________________________________________________\n",
      "conv2d_6 (Conv2D)            (None, 3, 3, 64)          36928     \n",
      "_________________________________________________________________\n",
      "flatten_1 (Flatten)          (None, 576)               0         \n",
      "_________________________________________________________________\n",
      "dense_2 (Dense)              (None, 64)                36928     \n",
      "_________________________________________________________________\n",
      "dense_3 (Dense)              (None, 10)                650       \n",
      "=================================================================\n",
      "Total params: 93,322\n",
      "Trainable params: 93,322\n",
      "Non-trainable params: 0\n",
      "_________________________________________________________________\n",
      "None\n"
     ]
    }
   ],
   "source": [
    "print(test.summary())"
   ]
  },
  {
   "cell_type": "code",
   "execution_count": null,
   "metadata": {},
   "outputs": [],
   "source": []
  }
 ],
 "metadata": {
  "interpreter": {
   "hash": "81454483c583b44fee94e347d5919d484423d620c1a6c5388a53327e1bc26fdd"
  },
  "kernelspec": {
   "display_name": "Python 3.7.11 ('ml_proj')",
   "language": "python",
   "name": "python3"
  },
  "language_info": {
   "codemirror_mode": {
    "name": "ipython",
    "version": 3
   },
   "file_extension": ".py",
   "mimetype": "text/x-python",
   "name": "python",
   "nbconvert_exporter": "python",
   "pygments_lexer": "ipython3",
   "version": "3.7.11"
  },
  "orig_nbformat": 4
 },
 "nbformat": 4,
 "nbformat_minor": 2
}
